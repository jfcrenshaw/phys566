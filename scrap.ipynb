{
 "cells": [
  {
   "cell_type": "code",
   "execution_count": 1,
   "metadata": {},
   "outputs": [],
   "source": [
    "import numpy as np"
   ]
  },
  {
   "cell_type": "code",
   "execution_count": 4,
   "metadata": {},
   "outputs": [],
   "source": [
    "f = lambda x : x*(x-1)\n",
    "df = lambda x,d : (f(x+d) - f(x))/d"
   ]
  },
  {
   "cell_type": "code",
   "execution_count": 21,
   "metadata": {},
   "outputs": [
    {
     "name": "stdout",
     "output_type": "stream",
     "text": [
      "delta = 0.01       derivative = 1.010000000000001      diff = -0.010000000000000897\n",
      "delta = 0.0001     derivative = 1.0000999999998899     diff = -9.999999988985486e-05\n",
      "delta = 1e-06      derivative = 1.0000009999177333     diff = -9.99917733279787e-07\n",
      "delta = 1e-08      derivative = 1.0000000039225287     diff = -3.922528746258536e-09\n",
      "delta = 1e-12      derivative = 1.0000889005833413     diff = -8.890058334132256e-05\n",
      "delta = 1e-14      derivative = 0.9992007221626509     diff = 0.0007992778373491216\n"
     ]
    }
   ],
   "source": [
    "x = 1\n",
    "d_list = [1e-2,1e-4,1e-6,1e-8,1e-12,1e-14]\n",
    "\n",
    "for d in d_list:\n",
    "    print(\"delta = {0:<10} derivative = {1:<22} diff = {2:<8}\".format(d,df(x,d),1-df(x,d)))"
   ]
  },
  {
   "cell_type": "code",
   "execution_count": null,
   "metadata": {},
   "outputs": [],
   "source": []
  }
 ],
 "metadata": {
  "kernelspec": {
   "display_name": "Python 3",
   "language": "python",
   "name": "python3"
  },
  "language_info": {
   "codemirror_mode": {
    "name": "ipython",
    "version": 3
   },
   "file_extension": ".py",
   "mimetype": "text/x-python",
   "name": "python",
   "nbconvert_exporter": "python",
   "pygments_lexer": "ipython3",
   "version": "3.6.8"
  }
 },
 "nbformat": 4,
 "nbformat_minor": 2
}
